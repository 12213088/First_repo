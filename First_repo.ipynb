{
  "cells": [
    {
      "cell_type": "code",
      "execution_count": null,
      "metadata": {
        "colab": {
          "base_uri": "https://localhost:8080/"
        },
        "id": "qS1G-G2bJ9g9",
        "outputId": "f34d7fca-b581-442f-fe24-ce26b08187a4"
      },
      "outputs": [
        {
          "data": {
            "text/plain": [
              "14"
            ]
          },
          "execution_count": 1,
          "metadata": {},
          "output_type": "execute_result"
        }
      ],
      "source": [
        "6+9"
      ]
    },
    {
      "cell_type": "code",
      "execution_count": null,
      "metadata": {
        "colab": {
          "base_uri": "https://localhost:8080/"
        },
        "id": "qPSU3XI_KI2z",
        "outputId": "65fc65a6-8fc0-410a-a385-7a9374e65af0"
      },
      "outputs": [
        {
          "name": "stdout",
          "output_type": "stream",
          "text": [
            "enter your nameSiddharth\n",
            "<class 'str'>\n"
          ]
        }
      ],
      "source": [
        "usr1=input(\"enter your name\")\n",
        "print(type(usr1))"
      ]
    },
    {
      "cell_type": "code",
      "execution_count": null,
      "metadata": {
        "colab": {
          "base_uri": "https://localhost:8080/"
        },
        "id": "AnbQKM7FK1q6",
        "outputId": "9aaae81c-cc74-41e7-a879-5b52024ce27a"
      },
      "outputs": [
        {
          "output_type": "stream",
          "name": "stdout",
          "text": [
            "enter your age18\n",
            "18\n"
          ]
        }
      ],
      "source": [
        "ip1=input(\"enter your age\")\n",
        "print(ip1)"
      ]
    },
    {
      "cell_type": "code",
      "execution_count": null,
      "metadata": {
        "colab": {
          "base_uri": "https://localhost:8080/"
        },
        "id": "TxxhuvEoNd-D",
        "outputId": "bd0f7d40-f067-4c0c-87da-b244759dfc24"
      },
      "outputs": [
        {
          "output_type": "stream",
          "name": "stdout",
          "text": [
            "please enter your age18\n",
            "<class 'str'>\n"
          ]
        }
      ],
      "source": [
        "usr2=input(\"please enter your age\")\n",
        "print(type(usr2))"
      ]
    },
    {
      "cell_type": "code",
      "execution_count": null,
      "metadata": {
        "colab": {
          "base_uri": "https://localhost:8080/"
        },
        "id": "Tn8JY24WQoel",
        "outputId": "b719b30c-f424-40e9-c8dc-3b189dad55e9"
      },
      "outputs": [
        {
          "output_type": "stream",
          "name": "stdout",
          "text": [
            "<class 'int'>\n"
          ]
        }
      ],
      "source": [
        "ip2=(type(int(\"90\")))\n",
        "print(ip2)"
      ]
    },
    {
      "cell_type": "code",
      "execution_count": null,
      "metadata": {
        "colab": {
          "base_uri": "https://localhost:8080/"
        },
        "id": "dJMW1Ea7TfGf",
        "outputId": "11157d52-8b28-4a64-bf4a-b75f8a7371ab"
      },
      "outputs": [
        {
          "name": "stdout",
          "output_type": "stream",
          "text": [
            "which class is this?what is the time?\n"
          ]
        }
      ],
      "source": [
        "usr3=(\"which class is this?\")\n",
        "ip3=(\"what is the time?\")\n",
        "print(usr3+ip3)"
      ]
    },
    {
      "cell_type": "code",
      "execution_count": null,
      "metadata": {
        "colab": {
          "base_uri": "https://localhost:8080/"
        },
        "id": "5FFi9ycZVYkN",
        "outputId": "dd442069-b5c8-40fd-8c79-8167a44ba225"
      },
      "outputs": [
        {
          "name": "stdout",
          "output_type": "stream",
          "text": [
            "which class is this? what is the time?\n"
          ]
        }
      ],
      "source": [
        "usr3=(\"which class is this?\")\n",
        "ip3=(\"what is the time?\")\n",
        "print(usr3,ip3)"
      ]
    },
    {
      "cell_type": "code",
      "execution_count": null,
      "metadata": {
        "colab": {
          "base_uri": "https://localhost:8080/"
        },
        "id": "E4qxmewHVpy8",
        "outputId": "51f1759d-8335-4dce-806d-0fd9219b9d12"
      },
      "outputs": [
        {
          "name": "stdout",
          "output_type": "stream",
          "text": [
            "which class is this?#what is the time?\n",
            "csr102\n"
          ]
        }
      ],
      "source": [
        "usr3=(\"which class is this?\")\n",
        "ip3=(\"what is the time?\")\n",
        "print(usr3,ip3,sep=\"#\")\n",
        "print(\"csr102\")"
      ]
    },
    {
      "cell_type": "code",
      "execution_count": null,
      "metadata": {
        "colab": {
          "base_uri": "https://localhost:8080/"
        },
        "id": "m9FutLo_YJK3",
        "outputId": "23e3542a-37d3-437d-d017-63122f7e6879"
      },
      "outputs": [
        {
          "name": "stdout",
          "output_type": "stream",
          "text": [
            "which class is this? what is the time?$Hello world\n"
          ]
        }
      ],
      "source": [
        "usr3=(\"which class is this?\")\n",
        "ip3=(\"what is the time?\")\n",
        "print(usr3,ip3,end=\"$\")\n",
        "print(\"Hello world\")"
      ]
    },
    {
      "cell_type": "code",
      "execution_count": null,
      "metadata": {
        "colab": {
          "base_uri": "https://localhost:8080/"
        },
        "id": "QwsXvdJmYsHG",
        "outputId": "f760515d-052a-4c2b-cd11-b3ffc8aa4bb4"
      },
      "outputs": [
        {
          "name": "stdout",
          "output_type": "stream",
          "text": [
            "<class 'float'>\n"
          ]
        }
      ],
      "source": [
        "usr4=20.2\n",
        "print(type(usr4))"
      ]
    },
    {
      "cell_type": "code",
      "execution_count": null,
      "metadata": {
        "colab": {
          "base_uri": "https://localhost:8080/"
        },
        "id": "D8kHxG57angh",
        "outputId": "7c97dbcd-2faa-4de8-e089-ab3f433579f3"
      },
      "outputs": [
        {
          "name": "stdout",
          "output_type": "stream",
          "text": [
            "[1, 2, 4, 5, 7, 7, 43, 2, '4t']\n"
          ]
        }
      ],
      "source": [
        "lst_var=[1,2,4,5,7,7,43,2,\"4t\",]\n",
        "print(lst_var)"
      ]
    },
    {
      "cell_type": "code",
      "execution_count": null,
      "metadata": {
        "colab": {
          "base_uri": "https://localhost:8080/"
        },
        "id": "bCb-Qbi0b2e6",
        "outputId": "79ede0dc-76e0-4f53-8c09-b1268a60cf8a"
      },
      "outputs": [
        {
          "name": "stdout",
          "output_type": "stream",
          "text": [
            "<class 'list'>\n"
          ]
        }
      ],
      "source": [
        "lst_var=[1,2,4,5,7,7,43,2,\"4t\",]\n",
        "print(type(lst_var))\n"
      ]
    },
    {
      "cell_type": "code",
      "execution_count": null,
      "metadata": {
        "colab": {
          "base_uri": "https://localhost:8080/"
        },
        "id": "cO52Yn3bczvG",
        "outputId": "6bad4314-10f3-4ea8-f605-209f132985f5"
      },
      "outputs": [
        {
          "name": "stdout",
          "output_type": "stream",
          "text": [
            "['a', 'b', 'c', [1, 2, 3]]\n",
            "<class 'list'>\n"
          ]
        }
      ],
      "source": [
        "lst_var=['a','b','c',[1,2,3]]\n",
        "print(lst_var)\n",
        "print(type(lst_var))"
      ]
    },
    {
      "cell_type": "code",
      "execution_count": null,
      "metadata": {
        "colab": {
          "base_uri": "https://localhost:8080/"
        },
        "id": "Uo0ogQXAtPLK",
        "outputId": "9f727fe5-6872-4fc6-f4fc-94d8db2d6a78"
      },
      "outputs": [
        {
          "name": "stdout",
          "output_type": "stream",
          "text": [
            "('a', 'b', 'c', 1, 2, 3)\n",
            "<class 'tuple'>\n"
          ]
        }
      ],
      "source": [
        "tup_var=('a','b','c',1,2,3)\n",
        "print(tup_var)\n",
        "print(type(tup_var))"
      ]
    },
    {
      "cell_type": "code",
      "execution_count": null,
      "metadata": {
        "colab": {
          "base_uri": "https://localhost:8080/"
        },
        "id": "8NPFcqh-tnvh",
        "outputId": "47e02b75-85df-4ed7-dfc1-f2015b983dc8"
      },
      "outputs": [
        {
          "output_type": "stream",
          "name": "stdout",
          "text": [
            "('a', 'b', 1, 2, [1, 3])\n"
          ]
        }
      ],
      "source": [
        "tup_var=('a','b',1,2,[1,3])\n",
        "print(tup_var)"
      ]
    },
    {
      "cell_type": "code",
      "execution_count": null,
      "metadata": {
        "colab": {
          "base_uri": "https://localhost:8080/"
        },
        "id": "XN-t9eF8uHZa",
        "outputId": "57dbeec7-e9d0-4b13-d501-5a8899194e06"
      },
      "outputs": [
        {
          "name": "stdout",
          "output_type": "stream",
          "text": [
            "['a', 'b', (1, 2, 3)]\n",
            "<class 'list'>\n"
          ]
        }
      ],
      "source": [
        "lst_var=['a','b',(1,2,3)]\n",
        "print(lst_var)\n",
        "print(type(lst_var))"
      ]
    },
    {
      "cell_type": "code",
      "execution_count": null,
      "metadata": {
        "colab": {
          "base_uri": "https://localhost:8080/"
        },
        "id": "Og1vwt88xQhK",
        "outputId": "582d8ca7-ef86-4c4a-92e9-db7bc7a07e49"
      },
      "outputs": [
        {
          "name": "stdout",
          "output_type": "stream",
          "text": [
            "{'India': 'new delhi'}\n",
            "<class 'dict'>\n"
          ]
        }
      ],
      "source": [
        "dict_type={'India':'new delhi'}\n",
        "print(dict_type)\n",
        "print(type(dict_type))"
      ]
    },
    {
      "cell_type": "code",
      "execution_count": null,
      "metadata": {
        "colab": {
          "base_uri": "https://localhost:8080/"
        },
        "id": "CAWRCykmxqyX",
        "outputId": "0973fa12-4dbd-4dd6-e34d-9a068fc786f2"
      },
      "outputs": [
        {
          "name": "stdout",
          "output_type": "stream",
          "text": [
            "{'a', 'c', 'b'}\n",
            "<class 'set'>\n"
          ]
        }
      ],
      "source": [
        "set_type={'a','a','b','b','c','c'}\n",
        "print(set_type)\n",
        "print(type(set_type))"
      ]
    },
    {
      "cell_type": "code",
      "execution_count": null,
      "metadata": {
        "colab": {
          "base_uri": "https://localhost:8080/"
        },
        "id": "65Vg1UAyyths",
        "outputId": "dae2ac9e-bc92-4dac-83a3-6357d17cdc8c"
      },
      "outputs": [
        {
          "name": "stdout",
          "output_type": "stream",
          "text": [
            "{'a', 'c', 'b'}\n"
          ]
        }
      ],
      "source": [
        "set_type={'a','b','c','a','c','b','a'}\n",
        "print(set_type)"
      ]
    },
    {
      "cell_type": "code",
      "execution_count": null,
      "metadata": {
        "colab": {
          "base_uri": "https://localhost:8080/"
        },
        "id": "PL09cNxrzW33",
        "outputId": "3a3b5c8d-879e-4467-a207-d56e2cc91cdd"
      },
      "outputs": [
        {
          "name": "stdout",
          "output_type": "stream",
          "text": [
            "[1, 2, 36, 5, 7, 8, 9, 42, 47]\n"
          ]
        }
      ],
      "source": [
        "var_list=[2,42,36,47,5,2,1,47,36,42,7,8,8,8,9,2,5,7]\n",
        "print(list(set(var_list)))"
      ]
    },
    {
      "cell_type": "code",
      "execution_count": null,
      "metadata": {
        "colab": {
          "base_uri": "https://localhost:8080/"
        },
        "id": "dBW2dRP0zxNk",
        "outputId": "99dbb787-7373-4905-f189-300a0d4bb489"
      },
      "outputs": [
        {
          "name": "stdout",
          "output_type": "stream",
          "text": [
            "150\n"
          ]
        }
      ],
      "source": [
        "lst_var=[1,2,3,45,67,42,100,129,45,78,92,65,8,23,12,90,150,117]\n",
        "print(max(lst_var))"
      ]
    },
    {
      "cell_type": "code",
      "execution_count": null,
      "metadata": {
        "colab": {
          "base_uri": "https://localhost:8080/"
        },
        "id": "42baRsAG2dSd",
        "outputId": "23588256-d616-4524-e988-13ec21be0ea8"
      },
      "outputs": [
        {
          "name": "stdout",
          "output_type": "stream",
          "text": [
            "1\n"
          ]
        }
      ],
      "source": [
        "lst_var=[1,2,3,45,67,42,100,129,45,78,92,65,8,23,12,90,150,117]\n",
        "print(min(lst_var))"
      ]
    },
    {
      "cell_type": "code",
      "execution_count": null,
      "metadata": {
        "colab": {
          "base_uri": "https://localhost:8080/"
        },
        "id": "m3LrVCKx2kSB",
        "outputId": "aa2df21e-5554-440a-da3a-c613481e0f37"
      },
      "outputs": [
        {
          "name": "stdout",
          "output_type": "stream",
          "text": [
            "1069\n"
          ]
        }
      ],
      "source": [
        "lst_var=[1,2,3,45,67,42,100,129,45,78,92,65,8,23,12,90,150,117]\n",
        "print(sum(lst_var))"
      ]
    },
    {
      "cell_type": "code",
      "execution_count": null,
      "metadata": {
        "colab": {
          "base_uri": "https://localhost:8080/"
        },
        "id": "4MZCORQB2nLr",
        "outputId": "1b094da8-6e5d-45e4-c875-ab5a5c5311d7"
      },
      "outputs": [
        {
          "name": "stdout",
          "output_type": "stream",
          "text": [
            "18\n"
          ]
        }
      ],
      "source": [
        "lst_var=[1,2,3,45,67,42,100,129,45,78,92,65,8,23,12,90,150,117]\n",
        "print(len(lst_var))"
      ]
    },
    {
      "cell_type": "code",
      "execution_count": null,
      "metadata": {
        "colab": {
          "base_uri": "https://localhost:8080/"
        },
        "id": "vsiUOj-Q29Ds",
        "outputId": "308f5188-979a-4262-d0fa-7a6cf041094a"
      },
      "outputs": [
        {
          "name": "stdout",
          "output_type": "stream",
          "text": [
            "[1, 2, 3, 45, 67, 42, 100, 129, 45, 78, 92, 65, 8, 23, 12, 90, 150, 117]\n"
          ]
        }
      ],
      "source": [
        "lst_var=[1,2,3,45,67,42,100,129,45,78,92,65,8,23,12,90,150,117]\n",
        "print((lst_var))"
      ]
    },
    {
      "cell_type": "code",
      "execution_count": null,
      "metadata": {
        "colab": {
          "base_uri": "https://localhost:8080/"
        },
        "id": "aitlamGj3SMk",
        "outputId": "89c78af6-df22-4bbc-8cce-ca9fe5eac7db"
      },
      "outputs": [
        {
          "name": "stdout",
          "output_type": "stream",
          "text": [
            "loop complete\n"
          ]
        }
      ],
      "source": [
        "a=1\n",
        "while a<100:\n",
        "  a=a+1\n",
        "print(\"loop complete\")"
      ]
    },
    {
      "cell_type": "code",
      "execution_count": null,
      "metadata": {
        "colab": {
          "base_uri": "https://localhost:8080/"
        },
        "id": "pHywWsVD60j_",
        "outputId": "aa8bb91a-e041-493e-f155-e5ebeeaedb83"
      },
      "outputs": [
        {
          "data": {
            "text/plain": [
              "100"
            ]
          },
          "execution_count": 65,
          "metadata": {},
          "output_type": "execute_result"
        }
      ],
      "source": [
        "a"
      ]
    },
    {
      "cell_type": "code",
      "execution_count": null,
      "metadata": {
        "colab": {
          "background_save": true,
          "base_uri": "https://localhost:8080/"
        },
        "id": "tg212mLV7f-v",
        "outputId": "0194f946-5b03-462f-8768-14574ee94ddd"
      },
      "outputs": [
        {
          "name": "stdout",
          "output_type": "stream",
          "text": [
            "1\n",
            "2\n",
            "3\n",
            "45\n",
            "67\n",
            "42\n",
            "100\n",
            "129\n",
            "45\n",
            "78\n",
            "92\n",
            "65\n",
            "8\n",
            "23\n",
            "12\n",
            "90\n",
            "150\n",
            "117\n",
            "117\n"
          ]
        }
      ],
      "source": [
        "for elem in lst_var:\n",
        " print(elem)\n",
        "print(elem)"
      ]
    },
    {
      "cell_type": "code",
      "execution_count": null,
      "metadata": {
        "id": "oTmjj5w7H7Qh",
        "colab": {
          "base_uri": "https://localhost:8080/"
        },
        "outputId": "b7bc5482-7dd9-49f4-ec1e-776cf4e8cb28"
      },
      "outputs": [
        {
          "output_type": "execute_result",
          "data": {
            "text/plain": [
              "3.2"
            ]
          },
          "metadata": {},
          "execution_count": 72
        }
      ],
      "source": [
        "16/5"
      ]
    },
    {
      "cell_type": "code",
      "source": [
        "a=1\n",
        "while a<10:\n",
        " a+=1\n",
        "print(\"loop complete\")\n"
      ],
      "metadata": {
        "colab": {
          "base_uri": "https://localhost:8080/"
        },
        "id": "nO8Kg0KiJ5_p",
        "outputId": "ea7c4679-49bc-415c-9b50-e76c22cd6ea6"
      },
      "execution_count": null,
      "outputs": [
        {
          "output_type": "stream",
          "name": "stdout",
          "text": [
            "loop complete\n"
          ]
        }
      ]
    },
    {
      "cell_type": "code",
      "source": [
        "pers_A=19\n",
        "pers_B=20\n",
        "var_check=(pers_A>18) and (pers_B>18)\n",
        "print(var_check)"
      ],
      "metadata": {
        "colab": {
          "base_uri": "https://localhost:8080/"
        },
        "id": "Mg_apDTQOu5t",
        "outputId": "7b1d6100-f125-443a-bd0f-dd7540116d2c"
      },
      "execution_count": null,
      "outputs": [
        {
          "output_type": "stream",
          "name": "stdout",
          "text": [
            "True\n"
          ]
        }
      ]
    },
    {
      "cell_type": "code",
      "source": [
        "pers_A=19\n",
        "pers_B=16\n",
        "var_check=(pers_A>18) or (pers_B>18)\n",
        "print(var_check)"
      ],
      "metadata": {
        "colab": {
          "base_uri": "https://localhost:8080/"
        },
        "id": "_QnFuGM1NKTh",
        "outputId": "db53c041-8fde-4999-fa25-c4067630ef40"
      },
      "execution_count": null,
      "outputs": [
        {
          "output_type": "stream",
          "name": "stdout",
          "text": [
            "True\n"
          ]
        }
      ]
    },
    {
      "cell_type": "code",
      "source": [
        "print (not True)"
      ],
      "metadata": {
        "colab": {
          "base_uri": "https://localhost:8080/"
        },
        "id": "TMIOs0nMQKX6",
        "outputId": "4e0bf8d3-634f-48aa-b63f-8672780a52f3"
      },
      "execution_count": null,
      "outputs": [
        {
          "output_type": "stream",
          "name": "stdout",
          "text": [
            "False\n"
          ]
        }
      ]
    },
    {
      "cell_type": "code",
      "source": [
        "print (not False)"
      ],
      "metadata": {
        "colab": {
          "base_uri": "https://localhost:8080/"
        },
        "id": "iG-EYheuQZmu",
        "outputId": "fd84053d-f277-4989-80bc-7d15d4a0892e"
      },
      "execution_count": null,
      "outputs": [
        {
          "output_type": "stream",
          "name": "stdout",
          "text": [
            "True\n"
          ]
        }
      ]
    },
    {
      "cell_type": "code",
      "source": [
        "print (not False) or (not True)"
      ],
      "metadata": {
        "colab": {
          "base_uri": "https://localhost:8080/"
        },
        "id": "QLo4-fS9QiwY",
        "outputId": "45f24526-39f4-487a-e859-5fffe52118ba"
      },
      "execution_count": null,
      "outputs": [
        {
          "output_type": "stream",
          "name": "stdout",
          "text": [
            "True\n"
          ]
        },
        {
          "output_type": "execute_result",
          "data": {
            "text/plain": [
              "False"
            ]
          },
          "metadata": {},
          "execution_count": 84
        }
      ]
    },
    {
      "cell_type": "code",
      "source": [
        "pers_A=20\n",
        "pers_B=19\n",
        "if(pers_A>18) and (pers_B>19):\n",
        " print(\"Let them in\")"
      ],
      "metadata": {
        "id": "wZxXHYQTQqUM"
      },
      "execution_count": null,
      "outputs": []
    },
    {
      "cell_type": "code",
      "source": [
        "pers_A=20\n",
        "pers_B=18\n",
        "if(pers_A>18) and (pers_B>18):\n",
        " print(\"Let them in\")\n",
        "else:\n",
        " print(\"Dont let them in\")"
      ],
      "metadata": {
        "colab": {
          "base_uri": "https://localhost:8080/"
        },
        "id": "1HgLeJxxRl4g",
        "outputId": "a328fad6-a81e-4e9f-a25b-6901dcb6ab6d"
      },
      "execution_count": null,
      "outputs": [
        {
          "output_type": "stream",
          "name": "stdout",
          "text": [
            "Dont let them in\n"
          ]
        }
      ]
    },
    {
      "cell_type": "code",
      "source": [
        "pers_A=20\n",
        "pers_B=18\n",
        "if(pers_A>18) and (pers_B>18):\n",
        " print(\"Let them in\")\n",
        "elif(pers_A>18) and (pers_B<18):\n",
        "  print(\"Let pers_A inside\")\n",
        "elif(pers_A<18) and (pers_B):\n",
        "  print(\"Let pers_B inside\")\n",
        "else:\n",
        " print(\"Dont let them in\")"
      ],
      "metadata": {
        "colab": {
          "base_uri": "https://localhost:8080/"
        },
        "id": "GHWGohmVSpYd",
        "outputId": "ddef1b74-2711-42e1-d823-020f4316e76e"
      },
      "execution_count": null,
      "outputs": [
        {
          "output_type": "stream",
          "name": "stdout",
          "text": [
            "Dont let them in\n"
          ]
        }
      ]
    },
    {
      "cell_type": "code",
      "source": [
        "lst_var=['delhi','banglore','mumbai','hyderabad']\n",
        "if'chennai' in lst_var:\n",
        " print(\"Its there\")\n",
        "else:\n",
        " print(\"Nothing\")"
      ],
      "metadata": {
        "colab": {
          "base_uri": "https://localhost:8080/"
        },
        "id": "dlvaO6QAUWow",
        "outputId": "415fc4f4-cfc3-4a4e-a549-a1fda487c7d3"
      },
      "execution_count": null,
      "outputs": [
        {
          "output_type": "stream",
          "name": "stdout",
          "text": [
            "Nothing\n"
          ]
        }
      ]
    },
    {
      "cell_type": "code",
      "source": [
        "lst_var=[23,45,67,89,90,41,24,56,79,25,67]\n",
        "lst_var[5]=41\n",
        "print(lst_var)"
      ],
      "metadata": {
        "colab": {
          "base_uri": "https://localhost:8080/"
        },
        "id": "2NrEaPigU8NJ",
        "outputId": "48e44733-c5aa-47d8-d79d-6ee64c0f4aa8"
      },
      "execution_count": null,
      "outputs": [
        {
          "output_type": "stream",
          "name": "stdout",
          "text": [
            "[23, 45, 67, 89, 90, 41, 24, 56, 79, 25, 67]\n"
          ]
        }
      ]
    },
    {
      "cell_type": "code",
      "source": [
        "lst_var=[23,45,67,89,90,41,24,56,79,25,67]\n",
        "print(lst_var)"
      ],
      "metadata": {
        "colab": {
          "base_uri": "https://localhost:8080/"
        },
        "id": "ZUmeGsQHVtQj",
        "outputId": "e6b1d759-a1be-4e8a-a464-5b7c97d9cd7c"
      },
      "execution_count": null,
      "outputs": [
        {
          "output_type": "stream",
          "name": "stdout",
          "text": [
            "[23, 45, 67, 89, 90, 41, 24, 56, 79, 25, 67]\n"
          ]
        }
      ]
    },
    {
      "cell_type": "code",
      "source": [
        "lst_var=[23,45,67,89,90,41,24,56,79,25,67]\n",
        "print(sorted(lst_var,reverse = True))\n"
      ],
      "metadata": {
        "colab": {
          "base_uri": "https://localhost:8080/"
        },
        "id": "CqPdmHRfcLT0",
        "outputId": "654c854f-a0db-47dd-daf8-0e690e0ec8a9"
      },
      "execution_count": null,
      "outputs": [
        {
          "output_type": "stream",
          "name": "stdout",
          "text": [
            "[90, 89, 79, 67, 67, 56, 45, 41, 25, 24, 23]\n"
          ]
        }
      ]
    },
    {
      "cell_type": "code",
      "source": [
        "lst_var=[90, 89, 79, 67, 67, 56, 45, 41, 25, 24, 23]\n",
        "print(set(lst_var))"
      ],
      "metadata": {
        "colab": {
          "base_uri": "https://localhost:8080/"
        },
        "id": "fC3qMvbfckNb",
        "outputId": "ce759517-7764-48d1-9368-f6ed042fd8ed"
      },
      "execution_count": null,
      "outputs": [
        {
          "output_type": "stream",
          "name": "stdout",
          "text": [
            "{67, 41, 45, 79, 23, 24, 56, 89, 90, 25}\n"
          ]
        }
      ]
    },
    {
      "cell_type": "code",
      "source": [
        "lst_var.sort()"
      ],
      "metadata": {
        "id": "hQWUH7jNeF3P"
      },
      "execution_count": null,
      "outputs": []
    },
    {
      "cell_type": "code",
      "source": [
        "print(lst_var)"
      ],
      "metadata": {
        "colab": {
          "base_uri": "https://localhost:8080/"
        },
        "id": "tBQJPFO5eVCN",
        "outputId": "bbf04977-c85c-4882-a66e-10a4afbebd8c"
      },
      "execution_count": null,
      "outputs": [
        {
          "output_type": "stream",
          "name": "stdout",
          "text": [
            "[23, 24, 25, 41, 45, 56, 67, 67, 79, 89, 90]\n"
          ]
        }
      ]
    },
    {
      "cell_type": "code",
      "source": [
        "a=18\n",
        "print(id(18))"
      ],
      "metadata": {
        "id": "e00pm9f_hQoY",
        "colab": {
          "base_uri": "https://localhost:8080/"
        },
        "outputId": "7ccc885b-ee7f-4874-9187-5a495f41b391"
      },
      "execution_count": null,
      "outputs": [
        {
          "output_type": "stream",
          "name": "stdout",
          "text": [
            "11256608\n"
          ]
        }
      ]
    },
    {
      "cell_type": "code",
      "source": [
        "ip=input(\"what is your name?\")\n",
        "print(type(ip))\n"
      ],
      "metadata": {
        "colab": {
          "base_uri": "https://localhost:8080/"
        },
        "id": "XAaqVgqAMyY_",
        "outputId": "2f0e38cd-ae51-4cd7-e4c5-99ce17df93a8"
      },
      "execution_count": null,
      "outputs": [
        {
          "output_type": "stream",
          "name": "stdout",
          "text": [
            "what is your name?Siddharth\n",
            "<class 'str'>\n"
          ]
        }
      ]
    },
    {
      "cell_type": "code",
      "source": [
        "ip=input(\"what is your name?\")"
      ],
      "metadata": {
        "colab": {
          "base_uri": "https://localhost:8080/"
        },
        "id": "nLCQYxw9NPEK",
        "outputId": "ac196fcd-3d13-43c8-cbf8-e6ca2f598cab"
      },
      "execution_count": null,
      "outputs": [
        {
          "name": "stdout",
          "output_type": "stream",
          "text": [
            "what is your name?Siddharth\n"
          ]
        }
      ]
    },
    {
      "cell_type": "code",
      "source": [
        "ip11=int(input(69))"
      ],
      "metadata": {
        "colab": {
          "base_uri": "https://localhost:8080/"
        },
        "id": "0o5Re9xtQpQf",
        "outputId": "73f82be0-f819-4b26-e7be-4102a6ff0a3d"
      },
      "execution_count": null,
      "outputs": [
        {
          "name": "stdout",
          "output_type": "stream",
          "text": [
            "6969\n"
          ]
        }
      ]
    },
    {
      "cell_type": "code",
      "source": [
        "ip1=input(\"where are you?\")\n",
        "ip2=input(\"what u doing?\")\n",
        "print(ip1,ip2)"
      ],
      "metadata": {
        "colab": {
          "base_uri": "https://localhost:8080/"
        },
        "id": "8q3bKiuDRErA",
        "outputId": "0049b4b6-5f5a-4435-ba1f-ffec81fba2a0"
      },
      "execution_count": null,
      "outputs": [
        {
          "output_type": "stream",
          "name": "stdout",
          "text": [
            "where are you?In class\n",
            "what u doing?Learning python\n",
            "In class Learning python\n"
          ]
        }
      ]
    },
    {
      "cell_type": "code",
      "source": [
        "name=input(\"enter your name\")\n",
        "age=input(\"enter your age\")\n",
        "print(name,age,sep='##',end='$$')\n",
        "print(\"we are done\")"
      ],
      "metadata": {
        "colab": {
          "base_uri": "https://localhost:8080/"
        },
        "id": "OfE9SG6oR3RE",
        "outputId": "8ef19610-aef9-4a2e-877c-6fb3cdde4a24"
      },
      "execution_count": null,
      "outputs": [
        {
          "output_type": "stream",
          "name": "stdout",
          "text": [
            "enter your nameSiddharth\n",
            "enter your age18\n",
            "Siddharth##18$$we are done\n"
          ]
        }
      ]
    },
    {
      "cell_type": "code",
      "source": [
        "lst=[1,2,3,4,5,6,7]\n",
        "print(lst)\n",
        "print(type(lst))"
      ],
      "metadata": {
        "colab": {
          "base_uri": "https://localhost:8080/"
        },
        "id": "TrvGunFOVur-",
        "outputId": "59e4e689-057c-436a-b8e4-e3340f2a9b42"
      },
      "execution_count": null,
      "outputs": [
        {
          "output_type": "stream",
          "name": "stdout",
          "text": [
            "[1, 2, 3, 4, 5, 6, 7]\n",
            "<class 'list'>\n"
          ]
        }
      ]
    },
    {
      "cell_type": "code",
      "source": [
        "t=(1,2,3,4)\n",
        "print(t)\n",
        "print(type(t))"
      ],
      "metadata": {
        "colab": {
          "base_uri": "https://localhost:8080/"
        },
        "id": "FiMBxqAnV_CK",
        "outputId": "cb1212c5-774f-41f6-ad7b-a462aa79858f"
      },
      "execution_count": null,
      "outputs": [
        {
          "output_type": "stream",
          "name": "stdout",
          "text": [
            "(1, 2, 3, 4)\n",
            "<class 'tuple'>\n"
          ]
        }
      ]
    },
    {
      "cell_type": "code",
      "source": [
        "s={1,5,3,5,3,1,3,5,2}\n",
        "print(s)\n",
        "print(type(s))"
      ],
      "metadata": {
        "colab": {
          "base_uri": "https://localhost:8080/"
        },
        "id": "AF5zRXQ3WW_Z",
        "outputId": "8c821a41-bdca-494e-8b53-8e7aaded3eb1"
      },
      "execution_count": null,
      "outputs": [
        {
          "output_type": "stream",
          "name": "stdout",
          "text": [
            "{1, 2, 3, 5}\n",
            "<class 'set'>\n"
          ]
        }
      ]
    },
    {
      "cell_type": "code",
      "source": [
        "a=[1,2,3,4,5]\n",
        "b={1,2,3,2,3,2,1,3,2,1}\n",
        "c=(1,2,3,4,5)\n",
        "print(a)\n",
        "print(type(a))\n",
        "print(b)\n",
        "print(type(b))\n",
        "print(c)\n",
        "print(type(c))"
      ],
      "metadata": {
        "colab": {
          "base_uri": "https://localhost:8080/"
        },
        "id": "Ou9-0AeNXSWz",
        "outputId": "5e6e2781-7722-4fd6-cb42-df409dc50a52"
      },
      "execution_count": null,
      "outputs": [
        {
          "output_type": "stream",
          "name": "stdout",
          "text": [
            "[1, 2, 3, 4, 5]\n",
            "<class 'list'>\n",
            "{1, 2, 3}\n",
            "<class 'set'>\n",
            "(1, 2, 3, 4, 5)\n",
            "<class 'tuple'>\n"
          ]
        }
      ]
    },
    {
      "cell_type": "code",
      "source": [
        "\n",
        "a={1,2,3,4,'m'}\n",
        "print(a)"
      ],
      "metadata": {
        "colab": {
          "base_uri": "https://localhost:8080/"
        },
        "id": "08F4SaD9Yd1L",
        "outputId": "e6c5931f-feab-41ab-e083-316b1ee77e12"
      },
      "execution_count": null,
      "outputs": [
        {
          "output_type": "stream",
          "name": "stdout",
          "text": [
            "{1, 2, 3, 4, 'm'}\n"
          ]
        }
      ]
    },
    {
      "cell_type": "code",
      "source": [
        "marks={\"A\" : 92,\n",
        "       \"B\" : 90,\n",
        "       \"C\" : 40\n",
        "       }\n",
        "print(marks[\"A\"])\n",
        "print(type(marks[\"A\"]))\n",
        "print(marks[\"B\"])\n",
        "print(type(marks[\"B\"]))\n",
        "print(marks[\"C\"])\n",
        "print(type(marks[\"C\"]))"
      ],
      "metadata": {
        "colab": {
          "base_uri": "https://localhost:8080/"
        },
        "id": "m5T3lYNIZC5V",
        "outputId": "0887bfc8-b5cb-43c5-8d20-5be24f03ad45"
      },
      "execution_count": null,
      "outputs": [
        {
          "output_type": "stream",
          "name": "stdout",
          "text": [
            "92\n",
            "<class 'int'>\n",
            "90\n",
            "<class 'int'>\n",
            "40\n",
            "<class 'int'>\n"
          ]
        }
      ]
    },
    {
      "cell_type": "code",
      "source": [
        "a=\"20\"\n",
        "print(type(a))\n",
        "a=int(a)\n",
        "print(type(a))"
      ],
      "metadata": {
        "colab": {
          "base_uri": "https://localhost:8080/"
        },
        "id": "k_258ydMaMDn",
        "outputId": "4bdc7591-2218-4919-f138-58258bbb8397"
      },
      "execution_count": null,
      "outputs": [
        {
          "output_type": "stream",
          "name": "stdout",
          "text": [
            "<class 'str'>\n",
            "<class 'int'>\n"
          ]
        }
      ]
    },
    {
      "cell_type": "code",
      "source": [
        "pers_A=19\n",
        "if pers_A>18:\n",
        "  print(\"he is an adult\")"
      ],
      "metadata": {
        "colab": {
          "base_uri": "https://localhost:8080/"
        },
        "id": "6-odKQB2bpX_",
        "outputId": "7a2198ec-e4b5-4288-c889-06173ade4404"
      },
      "execution_count": null,
      "outputs": [
        {
          "output_type": "stream",
          "name": "stdout",
          "text": [
            "he is an adult\n"
          ]
        }
      ]
    },
    {
      "cell_type": "code",
      "source": [
        "pers_A=16\n",
        "if pers_A>18:\n",
        "  print(\"he is an adult\")\n",
        "else:\n",
        "  print(\"get out\")"
      ],
      "metadata": {
        "colab": {
          "base_uri": "https://localhost:8080/"
        },
        "id": "wj-3bDqOcpO3",
        "outputId": "d25bdbd9-dce2-4849-f91f-644e93a26319"
      },
      "execution_count": null,
      "outputs": [
        {
          "output_type": "stream",
          "name": "stdout",
          "text": [
            "get out\n"
          ]
        }
      ]
    },
    {
      "cell_type": "code",
      "source": [
        "age=int(input(\"how old are you?\"))\n",
        "if age>18:\n",
        "  print(\"come in\")\n",
        "else:\n",
        "  print(\"get out\")"
      ],
      "metadata": {
        "colab": {
          "base_uri": "https://localhost:8080/"
        },
        "id": "TNKEConYd0Na",
        "outputId": "1160af32-d05e-4b72-90aa-37ad521ac396"
      },
      "execution_count": null,
      "outputs": [
        {
          "output_type": "stream",
          "name": "stdout",
          "text": [
            "how old are you?20\n",
            "come in\n"
          ]
        }
      ]
    },
    {
      "cell_type": "code",
      "source": [
        "marks=33\n",
        "print(type(marks))\n",
        "marks=float(marks)\n",
        "print(marks)\n",
        "print(type(marks))"
      ],
      "metadata": {
        "colab": {
          "base_uri": "https://localhost:8080/"
        },
        "id": "X3gqQc74ePG9",
        "outputId": "a76b71ad-7ea5-4fd8-dc47-5803cb3853d5"
      },
      "execution_count": null,
      "outputs": [
        {
          "output_type": "stream",
          "name": "stdout",
          "text": [
            "<class 'int'>\n",
            "33.0\n",
            "<class 'float'>\n"
          ]
        }
      ]
    },
    {
      "cell_type": "code",
      "source": [
        "lst=[1,2,3,4,5,6,1,2,3]\n",
        "print(lst)\n",
        "print(type(lst))\n",
        "lst1=set(lst)\n",
        "print(lst1)\n",
        "print(type(lst1))"
      ],
      "metadata": {
        "colab": {
          "base_uri": "https://localhost:8080/"
        },
        "id": "y5F2ouu4ex1y",
        "outputId": "dd57d893-4761-44c1-bddd-3ba5e5471949"
      },
      "execution_count": null,
      "outputs": [
        {
          "output_type": "stream",
          "name": "stdout",
          "text": [
            "[1, 2, 3, 4, 5, 6, 1, 2, 3]\n",
            "<class 'list'>\n",
            "{1, 2, 3, 4, 5, 6}\n",
            "<class 'set'>\n"
          ]
        }
      ]
    },
    {
      "cell_type": "code",
      "source": [
        "p=(1,2,3,4,5)\n",
        "print(type(p))\n",
        "a=set(p)\n",
        "print(a)"
      ],
      "metadata": {
        "id": "vu1vpBpmf0EK"
      },
      "execution_count": null,
      "outputs": []
    },
    {
      "cell_type": "code",
      "source": [
        "a=1\n",
        "b=2\n",
        "print(a+b)"
      ],
      "metadata": {
        "id": "ly-4OOVSg1si",
        "colab": {
          "base_uri": "https://localhost:8080/"
        },
        "outputId": "fade9200-f8ef-401a-cf7b-8a84a631aeae"
      },
      "execution_count": null,
      "outputs": [
        {
          "output_type": "stream",
          "name": "stdout",
          "text": [
            "3\n"
          ]
        }
      ]
    },
    {
      "cell_type": "code",
      "source": [
        "a=2\n",
        "b=5\n",
        "print(a*b)"
      ],
      "metadata": {
        "colab": {
          "base_uri": "https://localhost:8080/"
        },
        "id": "tn3vzUAuxrhL",
        "outputId": "3c5f8501-19a9-4747-cf41-59b40784755c"
      },
      "execution_count": null,
      "outputs": [
        {
          "output_type": "stream",
          "name": "stdout",
          "text": [
            "10\n"
          ]
        }
      ]
    },
    {
      "cell_type": "code",
      "source": [
        "a=2\n",
        "b=3\n",
        "c=4\n",
        "d=5\n",
        "print(a+b*c-d)"
      ],
      "metadata": {
        "colab": {
          "base_uri": "https://localhost:8080/"
        },
        "id": "u6MES7PUx7v3",
        "outputId": "410b4516-ed3b-49d8-d28f-c20b7f0b485f"
      },
      "execution_count": null,
      "outputs": [
        {
          "output_type": "stream",
          "name": "stdout",
          "text": [
            "9\n"
          ]
        }
      ]
    },
    {
      "cell_type": "code",
      "source": [
        "a=2\n",
        "b=3\n",
        "c=4\n",
        "d=5\n",
        "print(a**b*c/d)"
      ],
      "metadata": {
        "colab": {
          "base_uri": "https://localhost:8080/"
        },
        "id": "CVU-PZOwyHCb",
        "outputId": "82475887-8fda-43c8-d4a3-82da2afd3fcd"
      },
      "execution_count": null,
      "outputs": [
        {
          "output_type": "stream",
          "name": "stdout",
          "text": [
            "6.4\n"
          ]
        }
      ]
    },
    {
      "cell_type": "code",
      "source": [
        "a=4\n",
        "b=-8\n",
        "print(a%b)"
      ],
      "metadata": {
        "colab": {
          "base_uri": "https://localhost:8080/"
        },
        "id": "yBmucFxMygpR",
        "outputId": "5580751a-8c6a-4267-d1d3-12c02768729c"
      },
      "execution_count": null,
      "outputs": [
        {
          "output_type": "stream",
          "name": "stdout",
          "text": [
            "-4\n"
          ]
        }
      ]
    },
    {
      "cell_type": "code",
      "source": [
        "a=2\n",
        "b=3\n",
        "c=4\n",
        "d=5\n",
        "print(a//b)"
      ],
      "metadata": {
        "colab": {
          "base_uri": "https://localhost:8080/"
        },
        "id": "aN8Qp7YmzHDk",
        "outputId": "d37c15f3-aaf5-41a3-9a05-7c89ed41d132"
      },
      "execution_count": null,
      "outputs": [
        {
          "output_type": "stream",
          "name": "stdout",
          "text": [
            "0\n"
          ]
        }
      ]
    },
    {
      "cell_type": "code",
      "source": [
        "print(25%4)\n",
        "print(type(25%4))"
      ],
      "metadata": {
        "colab": {
          "base_uri": "https://localhost:8080/"
        },
        "id": "biu04YQV0JkO",
        "outputId": "84eb5f0d-ae36-45f0-8ea0-b002309e878a"
      },
      "execution_count": null,
      "outputs": [
        {
          "output_type": "stream",
          "name": "stdout",
          "text": [
            "1\n",
            "<class 'int'>\n"
          ]
        }
      ]
    },
    {
      "cell_type": "code",
      "source": [
        "print(25//4)\n",
        "print(type(25//4))\n",
        "print(25/4)\n",
        "print(type(25/4))"
      ],
      "metadata": {
        "colab": {
          "base_uri": "https://localhost:8080/"
        },
        "id": "STMndiD-0Zpf",
        "outputId": "7efcd87e-3387-4e5c-b4f5-82d474099e6c"
      },
      "execution_count": null,
      "outputs": [
        {
          "output_type": "stream",
          "name": "stdout",
          "text": [
            "6\n",
            "<class 'int'>\n",
            "6.25\n",
            "<class 'float'>\n"
          ]
        }
      ]
    },
    {
      "cell_type": "code",
      "source": [
        "a=5\n",
        "a+=2\n",
        "print(a)"
      ],
      "metadata": {
        "colab": {
          "base_uri": "https://localhost:8080/"
        },
        "id": "e38MNTQv1jR4",
        "outputId": "935a4f55-e3df-4849-abed-4cf8114239ce"
      },
      "execution_count": null,
      "outputs": [
        {
          "output_type": "stream",
          "name": "stdout",
          "text": [
            "7\n"
          ]
        }
      ]
    },
    {
      "cell_type": "code",
      "source": [
        "a=5\n",
        "a*=5\n",
        "print(a)"
      ],
      "metadata": {
        "colab": {
          "base_uri": "https://localhost:8080/"
        },
        "id": "AVwP4Rs903AC",
        "outputId": "83097756-10e3-4978-c05b-5ff943ed9a14"
      },
      "execution_count": null,
      "outputs": [
        {
          "output_type": "stream",
          "name": "stdout",
          "text": [
            "25\n"
          ]
        }
      ]
    },
    {
      "cell_type": "code",
      "source": [
        "siddharth=20\n",
        "saketh=10\n",
        "print(siddharth>=18 and saketh>=18)"
      ],
      "metadata": {
        "colab": {
          "base_uri": "https://localhost:8080/"
        },
        "id": "hTlf3hHi23sy",
        "outputId": "d8e67a77-76fe-4af6-9e68-51212725b843"
      },
      "execution_count": null,
      "outputs": [
        {
          "output_type": "stream",
          "name": "stdout",
          "text": [
            "False\n"
          ]
        }
      ]
    },
    {
      "cell_type": "code",
      "source": [
        "siddharth=20\n",
        "saketh=10\n",
        "if (siddharth>18) and (saketh>18):\n",
        "  print(\"come in\")\n",
        "else:\n",
        "  print(\"get out saketh\")"
      ],
      "metadata": {
        "colab": {
          "base_uri": "https://localhost:8080/"
        },
        "id": "W2Ld5VAt3Pp4",
        "outputId": "3b422001-923f-4c35-e128-7277111826a0"
      },
      "execution_count": null,
      "outputs": [
        {
          "output_type": "stream",
          "name": "stdout",
          "text": [
            "get out saketh\n"
          ]
        }
      ]
    },
    {
      "cell_type": "code",
      "source": [
        "siddharth=20\n",
        "saketh=20\n",
        "if (siddharth>18) and (saketh<18):\n",
        "  print(\"come in siddharth\")\n",
        "elif (siddharth<18) and (saketh>18):\n",
        "  print(\"come in saketh\")\n",
        "else:\n",
        "  print(\"come in both\")"
      ],
      "metadata": {
        "colab": {
          "base_uri": "https://localhost:8080/"
        },
        "id": "ywCZsUum3_QF",
        "outputId": "8a1a9ba6-5e26-4055-fbe8-c9a710875f2c"
      },
      "execution_count": null,
      "outputs": [
        {
          "output_type": "stream",
          "name": "stdout",
          "text": [
            "come in both\n"
          ]
        }
      ]
    },
    {
      "cell_type": "code",
      "source": [
        "a=4\n",
        "b=3\n",
        "print(a==b)"
      ],
      "metadata": {
        "colab": {
          "base_uri": "https://localhost:8080/"
        },
        "id": "KIfBgcgZ492h",
        "outputId": "02d61336-1b29-4e07-96ae-a1e1e1d197a3"
      },
      "execution_count": null,
      "outputs": [
        {
          "output_type": "stream",
          "name": "stdout",
          "text": [
            "False\n"
          ]
        }
      ]
    },
    {
      "cell_type": "code",
      "source": [
        "a=4\n",
        "b=3\n",
        "print(a!=b)"
      ],
      "metadata": {
        "colab": {
          "base_uri": "https://localhost:8080/"
        },
        "id": "J4xjhtlM6mR2",
        "outputId": "3db35297-42ff-4b5d-af47-ea21f95638d7"
      },
      "execution_count": null,
      "outputs": [
        {
          "output_type": "stream",
          "name": "stdout",
          "text": [
            "True\n"
          ]
        }
      ]
    },
    {
      "cell_type": "code",
      "source": [
        "lst=[1,2,3,4,5,6,7]\n",
        "print(5 in lst)"
      ],
      "metadata": {
        "colab": {
          "base_uri": "https://localhost:8080/"
        },
        "id": "U--D0KXS61iN",
        "outputId": "499a96da-3a09-4305-92b6-1dec648f2d69"
      },
      "execution_count": null,
      "outputs": [
        {
          "output_type": "stream",
          "name": "stdout",
          "text": [
            "True\n"
          ]
        }
      ]
    },
    {
      "cell_type": "code",
      "source": [
        "lst=[1,2,3,4,5,6,7]\n",
        "print(9 in lst)"
      ],
      "metadata": {
        "colab": {
          "base_uri": "https://localhost:8080/"
        },
        "id": "1erMuXl-7jY0",
        "outputId": "4c8920f1-b913-4b93-ac37-8d3c79f82f8d"
      },
      "execution_count": null,
      "outputs": [
        {
          "output_type": "stream",
          "name": "stdout",
          "text": [
            "False\n"
          ]
        }
      ]
    },
    {
      "cell_type": "code",
      "source": [
        "lst=[1,2,3,4,5,6,7]\n",
        "print(9 not in lst)"
      ],
      "metadata": {
        "id": "WQ4GdOdd7v9t",
        "outputId": "a42483ea-4ae1-46ee-95a0-271a8c696e2c",
        "colab": {
          "base_uri": "https://localhost:8080/"
        }
      },
      "execution_count": null,
      "outputs": [
        {
          "output_type": "stream",
          "name": "stdout",
          "text": [
            "True\n"
          ]
        }
      ]
    },
    {
      "cell_type": "code",
      "source": [
        "siddharth=20\n",
        "saketh=20\n",
        "if (siddharth>18) and (saketh<18):\n",
        "  print(\"come in siddharth\")\n",
        "elif (siddharth<18) and (saketh>18):\n",
        "  print(\"come in saketh\")\n",
        "else:\n",
        "  print(\"come in both\")"
      ],
      "metadata": {
        "id": "uZoIBgOE71il",
        "colab": {
          "base_uri": "https://localhost:8080/"
        },
        "outputId": "c4e8cf06-5181-4987-d5f2-121f86f727db"
      },
      "execution_count": null,
      "outputs": [
        {
          "output_type": "stream",
          "name": "stdout",
          "text": [
            "come in both\n"
          ]
        }
      ]
    },
    {
      "cell_type": "code",
      "source": [
        "allowed_inputs=['1','2','3','4','6','w','wd','nb']\n",
        "cri=input(\"enter your score\")\n",
        "if cri=='1':\n",
        "  print(\"thats a single\")\n",
        "elif cri=='2':\n",
        "  print(\"thats two runs\")\n",
        "elif cri=='3':\n",
        "  print(\"here goes three runs\")\n",
        "elif cri=='4':\n",
        "  print(\"fantastic four\")\n",
        "elif cri=='6':\n",
        "  print(\"sixerrrr\")\n",
        "elif cri==\"w\":\n",
        "  print(\"ohh!A wicket down\")\n",
        "elif cri==\"wd\":\n",
        "  print(\"it is a wide\")\n",
        "elif cri==\"nb\":\n",
        "  print(\"nooo ball\")"
      ],
      "metadata": {
        "colab": {
          "base_uri": "https://localhost:8080/"
        },
        "id": "w6Z5E_u2MZ3J",
        "outputId": "a21d8960-ad6e-44d8-e2fb-6d5d509bffa6"
      },
      "execution_count": null,
      "outputs": [
        {
          "output_type": "stream",
          "name": "stdout",
          "text": [
            "enter your score6\n",
            "sixerrrr\n"
          ]
        }
      ]
    },
    {
      "cell_type": "code",
      "source": [
        "str_1=\"good afternoon\"\n",
        "print(str_1.upper())"
      ],
      "metadata": {
        "colab": {
          "base_uri": "https://localhost:8080/"
        },
        "id": "wXo4OE_HWmOo",
        "outputId": "1e315e33-4cad-4b1a-9b0d-30455139e34d"
      },
      "execution_count": null,
      "outputs": [
        {
          "output_type": "stream",
          "name": "stdout",
          "text": [
            "GOOD AFTERNOON\n"
          ]
        }
      ]
    },
    {
      "cell_type": "code",
      "source": [
        "str_2=\"GOOD\"\n",
        "print(str_2.lower())"
      ],
      "metadata": {
        "colab": {
          "base_uri": "https://localhost:8080/"
        },
        "id": "ziWXYzXvXLvs",
        "outputId": "ef7070ff-303c-49c5-823c-c7ced41d2081"
      },
      "execution_count": null,
      "outputs": [
        {
          "output_type": "stream",
          "name": "stdout",
          "text": [
            "good\n"
          ]
        }
      ]
    },
    {
      "cell_type": "code",
      "source": [
        "str_3=\"bad\"\n",
        "print(str_3.title())"
      ],
      "metadata": {
        "colab": {
          "base_uri": "https://localhost:8080/"
        },
        "id": "Mhqj3KGnXu4j",
        "outputId": "8611dcb7-9f98-40a8-df0f-a8d7985dce9a"
      },
      "execution_count": null,
      "outputs": [
        {
          "output_type": "stream",
          "name": "stdout",
          "text": [
            "Bad\n"
          ]
        }
      ]
    },
    {
      "cell_type": "code",
      "source": [
        "str_3=\"bad\"\n",
        "print(str_3.capitalize())"
      ],
      "metadata": {
        "colab": {
          "base_uri": "https://localhost:8080/"
        },
        "id": "h-YgP9WQYMAB",
        "outputId": "781b7d73-4a91-48c5-a52b-5dd3896b400f"
      },
      "execution_count": null,
      "outputs": [
        {
          "output_type": "stream",
          "name": "stdout",
          "text": [
            "Bad\n"
          ]
        }
      ]
    },
    {
      "cell_type": "code",
      "source": [
        "str_3=\"   bad   \"\n",
        "print(str_3.title())\n",
        "print(str_3.lstrip())\n",
        "print(str_3.rstrip())"
      ],
      "metadata": {
        "colab": {
          "base_uri": "https://localhost:8080/"
        },
        "id": "tSDgt3L-YRfh",
        "outputId": "dca06dcc-8990-40cb-e140-479aee2a6521"
      },
      "execution_count": null,
      "outputs": [
        {
          "output_type": "stream",
          "name": "stdout",
          "text": [
            "   Bad   \n",
            "bad   \n",
            "   bad\n"
          ]
        }
      ]
    },
    {
      "cell_type": "code",
      "source": [
        "var_str=\"25m\"\n",
        "print(var_str.isalnum())"
      ],
      "metadata": {
        "colab": {
          "base_uri": "https://localhost:8080/"
        },
        "id": "p58pkI5wapIe",
        "outputId": "1326b3e9-8e70-49b1-99de-4a1a96814508"
      },
      "execution_count": null,
      "outputs": [
        {
          "output_type": "stream",
          "name": "stdout",
          "text": [
            "True\n"
          ]
        }
      ]
    },
    {
      "cell_type": "code",
      "source": [
        "lst=[1,2,3,4,5]\n",
        "lst[-1]\n",
        "lst[:3]\n",
        "lst[:-2]\n",
        "lst[2:4]"
      ],
      "metadata": {
        "colab": {
          "base_uri": "https://localhost:8080/"
        },
        "id": "xAIfVg_0ZL-j",
        "outputId": "4d080b21-008d-48ef-9c44-24840cbd4b31"
      },
      "execution_count": null,
      "outputs": [
        {
          "output_type": "execute_result",
          "data": {
            "text/plain": [
              "[3, 4]"
            ]
          },
          "metadata": {},
          "execution_count": 42
        }
      ]
    },
    {
      "cell_type": "code",
      "source": [
        "var_str=\"this is september\"\n",
        "var_str[2:6]\n"
      ],
      "metadata": {
        "colab": {
          "base_uri": "https://localhost:8080/",
          "height": 35
        },
        "id": "jHoZ61hoe8Rt",
        "outputId": "44546c46-0532-4967-dfb6-cff9896cc244"
      },
      "execution_count": null,
      "outputs": [
        {
          "output_type": "execute_result",
          "data": {
            "text/plain": [
              "'is i'"
            ],
            "application/vnd.google.colaboratory.intrinsic+json": {
              "type": "string"
            }
          },
          "metadata": {},
          "execution_count": 47
        }
      ]
    },
    {
      "cell_type": "code",
      "source": [
        "var_str=\"this is september so what man and women\"\n",
        "print(var_str.split())"
      ],
      "metadata": {
        "colab": {
          "base_uri": "https://localhost:8080/"
        },
        "id": "ZjK5gPo-fqag",
        "outputId": "8ee2b408-a23c-4a96-bb7d-10d42d182728"
      },
      "execution_count": null,
      "outputs": [
        {
          "output_type": "stream",
          "name": "stdout",
          "text": [
            "['this', 'is', 'september', 'so', 'what', 'man', 'and', 'women']\n"
          ]
        }
      ]
    },
    {
      "cell_type": "code",
      "source": [
        "fname='daily_job_09092022.txt'\n",
        "fname[10:-4]"
      ],
      "metadata": {
        "colab": {
          "base_uri": "https://localhost:8080/",
          "height": 35
        },
        "id": "qauA7a-4jX42",
        "outputId": "5c050fe9-7f54-4a7b-9004-56f736798d5c"
      },
      "execution_count": null,
      "outputs": [
        {
          "output_type": "execute_result",
          "data": {
            "text/plain": [
              "'09092022'"
            ],
            "application/vnd.google.colaboratory.intrinsic+json": {
              "type": "string"
            }
          },
          "metadata": {},
          "execution_count": 55
        }
      ]
    },
    {
      "cell_type": "code",
      "source": [
        "pokelist=[12,13,14,\"jigglypuff\",\"1\",\"2\"]\n",
        "pokelist[3:4]"
      ],
      "metadata": {
        "id": "5CEF-J4XheLQ",
        "colab": {
          "base_uri": "https://localhost:8080/"
        },
        "outputId": "587940ad-b307-4ae0-e300-ee30af20a651"
      },
      "execution_count": null,
      "outputs": [
        {
          "output_type": "execute_result",
          "data": {
            "text/plain": [
              "['jigglypuff']"
            ]
          },
          "metadata": {},
          "execution_count": 8
        }
      ]
    },
    {
      "cell_type": "code",
      "source": [
        "poke=\"pikachu\"\n",
        "if poke==\"jigglypuff\":\n",
        "  print(\"found jigglypuff\")\n",
        "else:\n",
        "  print(\"continue\")"
      ],
      "metadata": {
        "colab": {
          "base_uri": "https://localhost:8080/"
        },
        "id": "FuHLzK-I2eNO",
        "outputId": "573bbcea-9e95-4e90-ee25-8ff4f134e7b2"
      },
      "execution_count": null,
      "outputs": [
        {
          "output_type": "stream",
          "name": "stdout",
          "text": [
            "continue\n"
          ]
        }
      ]
    },
    {
      "cell_type": "code",
      "source": [
        "v1=\"pikachu\"\n",
        "v2=\"raichu\"\n",
        "v3=\"pichu\"\n",
        "print(v1[ : :-1])"
      ],
      "metadata": {
        "colab": {
          "base_uri": "https://localhost:8080/"
        },
        "id": "rAO5KS8g3ml9",
        "outputId": "66b03926-28b0-4339-e287-6e22e4aed31e"
      },
      "execution_count": null,
      "outputs": [
        {
          "output_type": "stream",
          "name": "stdout",
          "text": [
            "uhcakip\n"
          ]
        }
      ]
    },
    {
      "cell_type": "code",
      "source": [
        "L=[\"bulbasaur_21\",\"coocoo_54\",\"squirtle_42\",\"charmander_09\",\"groudon_69\",\"seviper_68\",\"paras_00\",\"greninja_07\",\"gengar_69\",\"mew_11\",\"rocky_92\",\"onyx_97\",\"raichu_22\",\"koko_23\",\"palkia_27\",\"charizard_14\"]\n",
        "l2=L[::-1]\n",
        "for L in l2:\n",
        "  print(L[-4::-1])\n"
      ],
      "metadata": {
        "id": "cYmmXMq05Sk6",
        "colab": {
          "base_uri": "https://localhost:8080/"
        },
        "outputId": "32188665-306a-4d04-e56e-32600f8eb6c2"
      },
      "execution_count": null,
      "outputs": [
        {
          "output_type": "stream",
          "name": "stdout",
          "text": [
            "drazirahc\n",
            "aiklap\n",
            "okok\n",
            "uhciar\n",
            "xyno\n",
            "ykcor\n",
            "wem\n",
            "ragneg\n",
            "ajninerg\n",
            "sarap\n",
            "repives\n",
            "noduorg\n",
            "rednamrahc\n",
            "eltriuqs\n",
            "oocooc\n",
            "ruasablub\n"
          ]
        }
      ]
    },
    {
      "cell_type": "code",
      "source": [
        "L=[\"bulbasaur_21\",\"coocoo_54\",\"squirtle_42\",\"charmander_09\",\"groudon_69\",\"seviper_68\",\"paras_00\",\"greninja_07\",\"gengar_69\",\"mew_11\",\"rocky_92\",\"onyx_97\",\"raichu_22\",\"koko_23\",\"palkia_27\",\"charizard_14\"]\n",
        "print(\"ASH's POKEMONS\")\n",
        "Lc=L[:16:2]\n",
        "for L in Lc:\n",
        "  print(L[:-3:])\n"
      ],
      "metadata": {
        "id": "GDI1GIBX9mC7",
        "colab": {
          "base_uri": "https://localhost:8080/"
        },
        "outputId": "13dc904e-4a90-465e-ba97-efa45d7eaf7f"
      },
      "execution_count": null,
      "outputs": [
        {
          "output_type": "stream",
          "name": "stdout",
          "text": [
            "ASH's POKEMONS\n",
            "bulbasaur\n",
            "squirtle\n",
            "groudon\n",
            "paras\n",
            "gengar\n",
            "rocky\n",
            "raichu\n",
            "palkia\n"
          ]
        }
      ]
    },
    {
      "cell_type": "code",
      "source": [
        "L=[\"bulbasaur_21\",\"coocoo_54\",\"squirtle_42\",\"charmander_09\",\"groudon_69\",\"seviper_68\",\"paras_00\",\"greninja_07\",\"gengar_69\",\"mew_11\",\"rocky_92\",\"onyx_97\",\"raichu_22\",\"koko_23\",\"palkia_27\",\"charizard_14\"]\n",
        "l2=[]\n",
        "for f in L[::2]:\n",
        "    l2.append(f)\n",
        "print(l2)\n"
      ],
      "metadata": {
        "id": "YZt7NedVYLAG",
        "colab": {
          "base_uri": "https://localhost:8080/"
        },
        "outputId": "24681355-be8f-484d-da11-88243db75bf8"
      },
      "execution_count": null,
      "outputs": [
        {
          "output_type": "stream",
          "name": "stdout",
          "text": [
            "['bulbasaur_21', 'squirtle_42', 'groudon_69', 'paras_00', 'gengar_69', 'rocky_92', 'raichu_22', 'palkia_27']\n"
          ]
        }
      ]
    },
    {
      "cell_type": "code",
      "source": [],
      "metadata": {
        "id": "fwyzS0DJgOms"
      },
      "execution_count": null,
      "outputs": []
    }
  ],
  "metadata": {
    "colab": {
      "collapsed_sections": [],
      "provenance": []
    },
    "kernelspec": {
      "display_name": "Python 3",
      "name": "python3"
    },
    "language_info": {
      "name": "python"
    }
  },
  "nbformat": 4,
  "nbformat_minor": 0
}